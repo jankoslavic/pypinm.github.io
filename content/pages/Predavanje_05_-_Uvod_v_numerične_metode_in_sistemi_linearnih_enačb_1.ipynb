{
 "cells": [
  {
   "cell_type": "markdown",
   "metadata": {
    "slideshow": {
     "slide_type": "slide"
    }
   },
   "source": [
    "<font size=\"2\"> [github.com/jankoslavic/pypinm](http://github.com/jankoslavic/pypinm)</font>\n",
    "\n",
    "[Prof. dr. Janko Slavič](http://www.ladisk.si/~slavic)\n",
    "\n",
    "<center>\n",
    "<img width=300 src=\"./fig/ladisk.png\">\n",
    "<br>\n",
    "<font size=\"7\" color=\"f00e0e\" face=\"garamond\"><b>Uvod v numerične metode in sistemi linearnih enačb (1)</b></font>\n",
    "<img src=\"\">\n",
    "<font size=\"2\">September 2020</font>\n",
    "</center>"
   ]
  },
  {
   "cell_type": "markdown",
   "metadata": {
    "slideshow": {
     "slide_type": "subslide"
    },
    "toc": "true"
   },
   "source": [
    "<h1>Kazalo<span class=\"tocSkip\"></span></h1>\n",
    "<div class=\"toc\"><ul class=\"toc-item\"><li><span><a href=\"#Uvod-v-numerične-metode\" data-toc-modified-id=\"Uvod-v-numerične-metode-1\"><span class=\"toc-item-num\">1&nbsp;&nbsp;</span>Uvod v numerične metode</a></span><ul class=\"toc-item\"><li><span><a href=\"#Zaokrožitvena-napaka\" data-toc-modified-id=\"Zaokrožitvena-napaka-1.1\"><span class=\"toc-item-num\">1.1&nbsp;&nbsp;</span>Zaokrožitvena napaka</a></span></li><li><span><a href=\"#Napaka-metode\" data-toc-modified-id=\"Napaka-metode-1.2\"><span class=\"toc-item-num\">1.2&nbsp;&nbsp;</span>Napaka metode</a></span></li></ul></li><li><span><a href=\"#Uvod-v-sisteme-linearnih-enačb\" data-toc-modified-id=\"Uvod-v-sisteme-linearnih-enačb-2\"><span class=\"toc-item-num\">2&nbsp;&nbsp;</span>Uvod v sisteme linearnih enačb</a></span><ul class=\"toc-item\"><li><span><a href=\"#O-rešitvi-sistema-linearnih-enačb\" data-toc-modified-id=\"O-rešitvi-sistema-linearnih-enačb-2.1\"><span class=\"toc-item-num\">2.1&nbsp;&nbsp;</span>O rešitvi sistema linearnih enačb</a></span></li><li><span><a href=\"#Norma-in-pogojenost-sistemov-enačb\" data-toc-modified-id=\"Norma-in-pogojenost-sistemov-enačb-2.2\"><span class=\"toc-item-num\">2.2&nbsp;&nbsp;</span>Norma in pogojenost sistemov enačb</a></span><ul class=\"toc-item\"><li><span><a href=\"#Primer-slabo-pogojene-matrike\" data-toc-modified-id=\"Primer-slabo-pogojene-matrike-2.2.1\"><span class=\"toc-item-num\">2.2.1&nbsp;&nbsp;</span>Primer slabo pogojene matrike</a></span></li></ul></li><li><span><a href=\"#Numerično-reševanje-sistemov-linearnih-enačb\" data-toc-modified-id=\"Numerično-reševanje-sistemov-linearnih-enačb-2.3\"><span class=\"toc-item-num\">2.3&nbsp;&nbsp;</span>Numerično reševanje sistemov linearnih enačb</a></span></li></ul></li><li><span><a href=\"#Gaussova-eliminacija\" data-toc-modified-id=\"Gaussova-eliminacija-3\"><span class=\"toc-item-num\">3&nbsp;&nbsp;</span>Gaussova eliminacija</a></span><ul class=\"toc-item\"><li><ul class=\"toc-item\"><li><span><a href=\"#Povzetek-Gaussove-eliminacije\" data-toc-modified-id=\"Povzetek-Gaussove-eliminacije-3.0.1\"><span class=\"toc-item-num\">3.0.1&nbsp;&nbsp;</span>Povzetek Gaussove eliminacije</a></span></li></ul></li><li><span><a href=\"#Numerična-zahtevnost\" data-toc-modified-id=\"Numerična-zahtevnost-3.1\"><span class=\"toc-item-num\">3.1&nbsp;&nbsp;</span>Numerična zahtevnost</a></span></li><li><span><a href=\"#Uporaba-knjižnjice-numpy\" data-toc-modified-id=\"Uporaba-knjižnjice-numpy-3.2\"><span class=\"toc-item-num\">3.2&nbsp;&nbsp;</span>Uporaba knjižnjice <code>numpy</code></a></span></li></ul></li><li><span><a href=\"#Nekaj-vprašanj-za-razmislek!\" data-toc-modified-id=\"Nekaj-vprašanj-za-razmislek!-4\"><span class=\"toc-item-num\">4&nbsp;&nbsp;</span>Nekaj vprašanj za razmislek!</a></span></li><li><span><a href=\"#Dodatno\" data-toc-modified-id=\"Dodatno-5\"><span class=\"toc-item-num\">5&nbsp;&nbsp;</span>Dodatno</a></span><ul class=\"toc-item\"><li><span><a href=\"#Primer-simbolnega-reševanja-sistema-linearnih-enačb-v-okviru-sympy\" data-toc-modified-id=\"Primer-simbolnega-reševanja-sistema-linearnih-enačb-v-okviru-sympy-5.1\"><span class=\"toc-item-num\">5.1&nbsp;&nbsp;</span>Primer simbolnega reševanja sistema linearnih enačb v okviru <code>sympy</code></a></span></li></ul></li></ul></div>"
   ]
  },
  {
   "cell_type": "markdown",
   "metadata": {
    "slideshow": {
     "slide_type": "subslide"
    },
    "toc": "true"
   },
   "source": [
    "<h1>Kazalo<span class=\"tocSkip\"></span></h1>\n",
    "<div class=\"toc\"><ul class=\"toc-item\"><li><span><a href=\"#Uvod-v-numerične-metode\" data-toc-modified-id=\"Uvod-v-numerične-metode-1\"><span class=\"toc-item-num\">1&nbsp;&nbsp;</span>Uvod v numerične metode</a></span><ul class=\"toc-item\"><li><span><a href=\"#Zaokrožitvena-napaka\" data-toc-modified-id=\"Zaokrožitvena-napaka-1.1\"><span class=\"toc-item-num\">1.1&nbsp;&nbsp;</span>Zaokrožitvena napaka</a></span></li><li><span><a href=\"#Napaka-metode\" data-toc-modified-id=\"Napaka-metode-1.2\"><span class=\"toc-item-num\">1.2&nbsp;&nbsp;</span>Napaka metode</a></span></li></ul></li><li><span><a href=\"#Uvod-v-sisteme-linearnih-enačb\" data-toc-modified-id=\"Uvod-v-sisteme-linearnih-enačb-2\"><span class=\"toc-item-num\">2&nbsp;&nbsp;</span>Uvod v sisteme linearnih enačb</a></span><ul class=\"toc-item\"><li><span><a href=\"#O-rešitvi-sistema-linearnih-enačb\" data-toc-modified-id=\"O-rešitvi-sistema-linearnih-enačb-2.1\"><span class=\"toc-item-num\">2.1&nbsp;&nbsp;</span>O rešitvi sistema linearnih enačb</a></span></li><li><span><a href=\"#Norma-in-pogojenost-sistemov-enačb\" data-toc-modified-id=\"Norma-in-pogojenost-sistemov-enačb-2.2\"><span class=\"toc-item-num\">2.2&nbsp;&nbsp;</span>Norma in pogojenost sistemov enačb</a></span><ul class=\"toc-item\"><li><span><a href=\"#Primer-slabo-pogojene-matrike\" data-toc-modified-id=\"Primer-slabo-pogojene-matrike-2.2.1\"><span class=\"toc-item-num\">2.2.1&nbsp;&nbsp;</span>Primer slabo pogojene matrike</a></span></li></ul></li><li><span><a href=\"#Numerično-reševanje-sistemov-linearnih-enačb\" data-toc-modified-id=\"Numerično-reševanje-sistemov-linearnih-enačb-2.3\"><span class=\"toc-item-num\">2.3&nbsp;&nbsp;</span>Numerično reševanje sistemov linearnih enačb</a></span></li></ul></li><li><span><a href=\"#Gaussova-eliminacija\" data-toc-modified-id=\"Gaussova-eliminacija-3\"><span class=\"toc-item-num\">3&nbsp;&nbsp;</span>Gaussova eliminacija</a></span><ul class=\"toc-item\"><li><ul class=\"toc-item\"><li><span><a href=\"#Povzetek-Gaussove-eliminacije\" data-toc-modified-id=\"Povzetek-Gaussove-eliminacije-3.0.1\"><span class=\"toc-item-num\">3.0.1&nbsp;&nbsp;</span>Povzetek Gaussove eliminacije</a></span></li></ul></li><li><span><a href=\"#Numerična-zahtevnost\" data-toc-modified-id=\"Numerična-zahtevnost-3.1\"><span class=\"toc-item-num\">3.1&nbsp;&nbsp;</span>Numerična zahtevnost</a></span></li><li><span><a href=\"#Uporaba-knjižnjice-numpy\" data-toc-modified-id=\"Uporaba-knjižnjice-numpy-3.2\"><span class=\"toc-item-num\">3.2&nbsp;&nbsp;</span>Uporaba knjižnjice <code>numpy</code></a></span></li></ul></li><li><span><a href=\"#Nekaj-vprašanj-za-razmislek!\" data-toc-modified-id=\"Nekaj-vprašanj-za-razmislek!-4\"><span class=\"toc-item-num\">4&nbsp;&nbsp;</span>Nekaj vprašanj za razmislek!</a></span></li><li><span><a href=\"#Dodatno\" data-toc-modified-id=\"Dodatno-5\"><span class=\"toc-item-num\">5&nbsp;&nbsp;</span>Dodatno</a></span><ul class=\"toc-item\"><li><span><a href=\"#Primer-simbolnega-reševanja-sistema-linearnih-enačb-v-okviru-sympy\" data-toc-modified-id=\"Primer-simbolnega-reševanja-sistema-linearnih-enačb-v-okviru-sympy-5.1\"><span class=\"toc-item-num\">5.1&nbsp;&nbsp;</span>Primer simbolnega reševanja sistema linearnih enačb v okviru <code>sympy</code></a></span></li></ul></li></ul></div>"
   ]
  },
  {
   "cell_type": "markdown",
   "metadata": {
    "slideshow": {
     "slide_type": "slide"
    }
   },
   "source": [
    "# Uvod v numerične metode"
   ]
  },
  {
   "cell_type": "markdown",
   "metadata": {},
   "source": [
    "Kadar želimo simulirati izbrani fizikalni proces, ponavadi postopamo takole:\n",
    "\n",
    "1. postavimo matematični model*,\n",
    "* izberemo numerično metodo in njene parametre,\n",
    "* pripravimo program (pomagamo si z vgrajenimi funkcijami),\n",
    "* izvedemo izračun, rezultate analiziramo in vrednotimo.\n",
    "\n",
    "\\* Če lahko matematični model rešimo analitično, numerično reševanje ni potrebno."
   ]
  },
  {
   "cell_type": "markdown",
   "metadata": {
    "slideshow": {
     "slide_type": "subslide"
    }
   },
   "source": [
    "Matematični model poskušamo rešiti analitično, saj taka rešitev ni obremenjena z napakami. Iz tega razloga se v okviru matematike učimo reševanja sistema enačb, integriranja, odvajanja in podobno. Bistvo **numeričnih metod** je, da matematične modele rešujemo **numerično**, torej na podlagi **diskretnih vrednosti**. Kakor bomo spoznali pozneje, nam numerični pristop v primerjavi z analitičnim omogoča reševanje bistveno obsežnejših in kompleksnejših problemov."
   ]
  },
  {
   "cell_type": "markdown",
   "metadata": {
    "slideshow": {
     "slide_type": "subslide"
    }
   },
   "source": [
    "## Zaokrožitvena napaka \n",
    "\n",
    "V nadaljevanju si bomo pogledali nekatere omejitve in izzive numeričnega pristopa. Prva omejitev je, da so v računalniku realne vrednosti vedno zapisane s končno natančnostjo. V Pythonu se števila pogosto zapišejo v dvojni natančnosti s približno 15 signifikantnimi števkami. "
   ]
  },
  {
   "cell_type": "markdown",
   "metadata": {
    "slideshow": {
     "slide_type": "subslide"
    }
   },
   "source": [
    "Število z dvojno natančnostjo se v Pythonu imenuje **float64** in je zapisano v spomin v binarni obliki v 64 bitih (11 bitov eksponent in 53 bitov mantisa (1 bit za predznak)). Ker je mantisa definirana na podlagi 52 binarnih števk, se lahko pojavi pri njegovem zapisu *relativna napaka* največ $\\epsilon\\approx2.2\\cdot 10^{-16}$. Ta napaka se imenuje **osnovna zaokrožitvena napaka** in se lahko pojavi pri vsakem vmesnem\n",
    "izračunu!"
   ]
  },
  {
   "cell_type": "markdown",
   "metadata": {
    "slideshow": {
     "slide_type": "subslide"
    }
   },
   "source": [
    "Če je korakov veliko, lahko napaka zelo naraste in zato je pomembno, da je njen vpliv na rezultat čim manjši!\n",
    "\n",
    "Spodaj je primer podrobnejših informacij za tip podatkov z dvojno natančnostjo (`float`); pri tem si pomagamo z vgrajenim modulom `sys` za klic parametrov in funkcij python sistema ([dokumentacija](https://docs.python.org/3/library/sys.html)):"
   ]
  },
  {
   "cell_type": "code",
   "execution_count": 1,
   "metadata": {
    "slideshow": {
     "slide_type": "subslide"
    }
   },
   "outputs": [
    {
     "data": {
      "text/plain": [
       "1.0000000000000002e+16"
      ]
     },
     "execution_count": 1,
     "metadata": {},
     "output_type": "execute_result"
    }
   ],
   "source": [
    "import sys\n",
    "sys.float_info.epsilon\n",
    "1e16+2\n",
    "#sys.float_info #preverite tudi širši izpis!"
   ]
  },
  {
   "cell_type": "markdown",
   "metadata": {
    "slideshow": {
     "slide_type": "subslide"
    }
   },
   "source": [
    "Poleg števila z dvojno natančnostjo se uporabljajo drugi tipi podatkov; dober pregled različnih tipov je prikazan v okviru [numpy](https://docs.scipy.org/doc/numpy-1.10.1/user/basics.types.html) in [python](https://docs.python.org/3/library/stdtypes.html) dokumentacije.\n",
    "\n",
    "Tukaj si poglejmo primer tipa `int8`, kar pomeni celo število zapisano z 8 biti (8 bit = 1 byte). Z njim lahko v dvojiškem sistemu zapišemo cela števila od -128 do +127:"
   ]
  },
  {
   "cell_type": "code",
   "execution_count": 12,
   "metadata": {
    "slideshow": {
     "slide_type": "subslide"
    }
   },
   "outputs": [
    {
     "data": {
      "text/plain": [
       "\"Število 1 tipa <class 'numpy.int8'> zapisano v binari obliki:       1\""
      ]
     },
     "execution_count": 12,
     "metadata": {},
     "output_type": "execute_result"
    }
   ],
   "source": [
    "import numpy as np\n",
    "število = np.int8(1) # poskušite še števila: -128 in nato 127, 128, 129. Kaj se dogaja?\n",
    "f'Število {število} tipa {type(število)} zapisano v binari obliki:{število:8b}'"
   ]
  },
  {
   "cell_type": "markdown",
   "metadata": {
    "slideshow": {
     "slide_type": "subslide"
    }
   },
   "source": [
    "## Napaka metode\n",
    "\n",
    "Poleg zaokrožitvene napake pa se pogosto srečamo tudi z **napako metode** ali **metodično napako**, ki jo naredimo takrat, ko natančen analitični postopek reševanja matematičnega modela zamenjamo s približnim numeričnim."
   ]
  },
  {
   "cell_type": "markdown",
   "metadata": {
    "slideshow": {
     "slide_type": "subslide"
    }
   },
   "source": [
    "Pomembna lastnost numeričnih algoritmov je **stabilnost**. To pomeni, da majhna sprememba vhodnih podatkov povzroči majhno spremembo rezultatov. Če se ob majhni spremembi na vhodu rezultati zelo spremenijo, pravimo, da je **algoritem nestabilen**. V praksi torej uporabljamo stabilne algoritme; bomo pa pozneje spoznali, da je stabilnost lahko pogojena tudi z vhodnimi podatki!\n",
    "\n",
    "Poznamo pa tudi nestabilnost matematičnega modela/naloge/enačbe; v tem primeru govorimo o **slabi pogojenosti**."
   ]
  },
  {
   "cell_type": "markdown",
   "metadata": {
    "slideshow": {
     "slide_type": "subslide"
    }
   },
   "source": [
    "Med izvajanjem numeričnega izračuna se napake lahko širijo. Posledično je rezultat operacije manj natančen (ima manj zanesljivih števk), kakor pa je zanesljivost podatkov izračuna."
   ]
  },
  {
   "cell_type": "markdown",
   "metadata": {
    "slideshow": {
     "slide_type": "subslide"
    }
   },
   "source": [
    "Poglejmo si sedaj splošen pristop k oceni napake. Točno vrednost označimo z $r$, približek z $a_1$; velja $r=a_1+e_1$, kjer je $e_1$ napaka. Če z numeričnim algoritmom  izračunamo bistveno boljši približek $a_2$, velja $r=a_2+e_2$. \n",
    "\n",
    "Ker velja $a_1+e_1=a_2+e_2$, lahko ob predpostavki $\\left|e_1\\right|>>\\left|e_2\\right|$ in $\\left|e_2\\right|\\approx 0$ izpeljemo $a_2-a_1=e_1-e_2\\approx e_1$."
   ]
  },
  {
   "cell_type": "markdown",
   "metadata": {
    "slideshow": {
     "slide_type": "subslide"
    }
   },
   "source": [
    "$\\left|a_1-a_2\\right|$ je torej pesimistična ocena absolutne napake,\n",
    "\n",
    "$\\left|\\frac{a_1-a_2}{a_2}\\right|$ pa ocena relativne napake."
   ]
  },
  {
   "cell_type": "markdown",
   "metadata": {
    "slideshow": {
     "slide_type": "slide"
    }
   },
   "source": [
    "# Uvod v sisteme linearnih enačb\n",
    "\n",
    "Pod zgornjim naslovom razumemo sistem $m$ linearnih enačb ($E_i, i=0, 1,\\dots,m-1$) z $n$ neznankami ($x_j, j=0,1,\\dots,n-1$):\n",
    "$$\n",
    "\\begin{array}{rllllllll}\n",
    "E_0: & A_{0,0}\\,x_0 &+&A_{0,1}\\,x_1&+& \\ldots &+&A_{0,n-1}\\,x_{n-1}&=&b_0\\\\\n",
    "E_1: & A_{1,0}\\,x_0 &+&A_{1,1}\\,x_1&+& \\ldots &+&A_{1,n-1}\\,x_{n-1}&=&b_1\\\\\n",
    "\\vdots && &&& \\vdots\\\\\n",
    "E_{m-1}: & A_{m-1,0}\\,x_0&+&A_{m-1,1}\\,x_1&+& \\ldots &+&A_{m-1,n-1}\\,x_{n-1}&=&b_{m-1}.\\\\\n",
    "\\end{array}\n",
    "$$\n",
    "Koeficienti $A_{i,j}$ in $b_i$ so znana števila. \n",
    "\n",
    "V kolikor je desna stran enaka nič, torej $b_i=0$, imenujemo sistem **homogenem**, sicer je sistem **nehomogen**."
   ]
  },
  {
   "cell_type": "markdown",
   "metadata": {
    "slideshow": {
     "slide_type": "subslide"
    }
   },
   "source": [
    "Sistem enačb lahko zapišemo tudi v matrični obliki:\n",
    "\n",
    "$$\\mathbf{A}\\,\\mathbf{x}=\\mathbf{b}$$\n",
    "\n",
    "kjer sta $\\mathbf{A}$ in $\\mathbf{b}$ znana matrika in vektor, vektor $\\mathbf{x}$ pa ni znan. Matriko $\\mathbf{A}$ imenujemo **matrika koeficientov**, vektor $\\mathbf{b}$ **vektor konstant** (tudi: vektor prostih členov ali vektor stolpec desnih strani) in $\\mathbf{x}$ **vektor neznank**. Če matriki $\\mathbf{A}$ dodamo kot stolpec vektor $\\mathbf{b}$, dobimo t. i. **razširjeno matriko** in jo označimo $[\\mathbf{A}|\\mathbf{b}]$."
   ]
  },
  {
   "cell_type": "markdown",
   "metadata": {
    "slideshow": {
     "slide_type": "subslide"
    }
   },
   "source": [
    "Opomba glede zapisa:\n",
    "\n",
    "* skalarne spremenljivke pišemo poševno, npr.: $a, A$,\n",
    "* vektorske spremenljivke pišemo z majhno črko poudarjeno, npr.: $\\mathbf{a}$,\n",
    "* matrične  spremenljivke pišemo z veliko črko poudarjeno, npr.: $\\mathbf{A}$."
   ]
  },
  {
   "cell_type": "markdown",
   "metadata": {
    "slideshow": {
     "slide_type": "subslide"
    }
   },
   "source": [
    "## O rešitvi sistema linearnih enačb"
   ]
  },
  {
   "cell_type": "markdown",
   "metadata": {},
   "source": [
    "Če nad sistemom linearnih enačb izvajamo **elementarne operacije**:\n",
    "\n",
    "* množenje poljubne enačbe s konstanto (ki je različna od nič),\n",
    "* spreminjanje vrstnega reda enačb,\n",
    "* prištevanje ene enačbe (pomnožene s konstanto) drugi enačbi, \n",
    "\n",
    "rešitve sistema ne spremenimo in dobimo ekvivalentni sistem enačb."
   ]
  },
  {
   "cell_type": "markdown",
   "metadata": {
    "slideshow": {
     "slide_type": "subslide"
    }
   },
   "source": [
    "S pomočjo elementarnih operacij nad vrsticami matrike $\\mathbf{A}$ jo lahko preoblikujemo v t. i. **vrstično kanonično obliko**:\n",
    "\n",
    "1. če obstajajo ničelne vrstice, so te na dnu matrike,\n",
    "* prvi neničelni element se nahaja desno od prvih neničelnih elementov predhodnih vrstic,\n",
    "* prvi neničelni element v *vrstici* imenujemo **pivot** in je enak 1,\n",
    "* pivot je edini neničelni element v *stolpcu*.\n",
    "\n",
    "\n",
    "**Rang matrike** predstavlja število neničelnih vrstic v vrstični kanonični obliki matrike; število neničelnih vrstic predstavlja **število linearno neodvisnih enačb in je enako številu pivotnih elementov**. **Rang matrike je torej enak številu linearno neodvisnih vrstic matrike**. Transponiranje matrike njenega ranga ne spremeni, zato je rang matrike enak tudi številu linearno neodvisnih *stolpcev* matrike. "
   ]
  },
  {
   "cell_type": "markdown",
   "metadata": {
    "slideshow": {
     "slide_type": "subslide"
    }
   },
   "source": [
    "Primer preoblikovanja matrike $\\mathbf{A}$:"
   ]
  },
  {
   "cell_type": "code",
   "execution_count": 43,
   "metadata": {},
   "outputs": [
    {
     "data": {
      "text/plain": [
       "array([[1, 2, 3],\n",
       "       [4, 5, 6],\n",
       "       [7, 8, 9]])"
      ]
     },
     "execution_count": 43,
     "metadata": {},
     "output_type": "execute_result"
    }
   ],
   "source": [
    "import numpy as np #uvozimo numpy\n",
    "A = np.arange(9).reshape((3,3))+1\n",
    "A"
   ]
  },
  {
   "cell_type": "markdown",
   "metadata": {},
   "source": [
    "Očitno ima neničelni element `A[0,0]` vrednost 1 in je pivotni element. Prvo vrstico `A[0,:]` pomnožimo z $-4$ in produkt prištejemo drugi vrstici `A[1,:]-4A[0,:]`:"
   ]
  },
  {
   "cell_type": "code",
   "execution_count": 44,
   "metadata": {
    "slideshow": {
     "slide_type": "subslide"
    }
   },
   "outputs": [
    {
     "data": {
      "text/plain": [
       "array([[ 1,  2,  3],\n",
       "       [ 0, -3, -6],\n",
       "       [ 7,  8,  9]])"
      ]
     },
     "execution_count": 44,
     "metadata": {},
     "output_type": "execute_result"
    }
   ],
   "source": [
    "A[1,:] -= A[1,0]*A[0,:]\n",
    "A"
   ]
  },
  {
   "cell_type": "markdown",
   "metadata": {},
   "source": [
    "Podobno naredimo za tretjo vrstico:"
   ]
  },
  {
   "cell_type": "code",
   "execution_count": 45,
   "metadata": {
    "slideshow": {
     "slide_type": "subslide"
    }
   },
   "outputs": [
    {
     "data": {
      "text/plain": [
       "array([[  1,   2,   3],\n",
       "       [  0,  -3,  -6],\n",
       "       [  0,  -6, -12]])"
      ]
     },
     "execution_count": 45,
     "metadata": {},
     "output_type": "execute_result"
    }
   ],
   "source": [
    "A[2,:] -= A[2,0]*A[0,:]\n",
    "A"
   ]
  },
  {
   "cell_type": "markdown",
   "metadata": {},
   "source": [
    "Drugo vrstico sedaj delimo z `A[1,1]`, da dobimo pivot:"
   ]
  },
  {
   "cell_type": "code",
   "execution_count": 46,
   "metadata": {
    "slideshow": {
     "slide_type": "subslide"
    }
   },
   "outputs": [
    {
     "data": {
      "text/plain": [
       "array([[  1,   2,   3],\n",
       "       [  0,   1,   2],\n",
       "       [  0,  -6, -12]])"
      ]
     },
     "execution_count": 46,
     "metadata": {},
     "output_type": "execute_result"
    }
   ],
   "source": [
    "A[1,:] = A[1,:]/A[1,1]\n",
    "A"
   ]
  },
  {
   "cell_type": "markdown",
   "metadata": {},
   "source": [
    "Odštejemo drugo vrstico od ostalih, da dobimo v drugem stolpcu ničle povsod, razen v drugi vrstici vrednost 1:"
   ]
  },
  {
   "cell_type": "code",
   "execution_count": 47,
   "metadata": {
    "slideshow": {
     "slide_type": "subslide"
    }
   },
   "outputs": [
    {
     "data": {
      "text/plain": [
       "array([[  1,   0,  -1],\n",
       "       [  0,   1,   2],\n",
       "       [  0,  -6, -12]])"
      ]
     },
     "execution_count": 47,
     "metadata": {},
     "output_type": "execute_result"
    }
   ],
   "source": [
    "A[0,:] -= A[0,1]*A[1,:] # odštevanje od prve vrstice\n",
    "A"
   ]
  },
  {
   "cell_type": "code",
   "execution_count": 48,
   "metadata": {},
   "outputs": [
    {
     "data": {
      "text/plain": [
       "array([[ 1,  0, -1],\n",
       "       [ 0,  1,  2],\n",
       "       [ 0,  0,  0]])"
      ]
     },
     "execution_count": 48,
     "metadata": {},
     "output_type": "execute_result"
    }
   ],
   "source": [
    "A[2,:] -= A[2,1]*A[1,:] # odštevanje od zadnje vrstice\n",
    "A"
   ]
  },
  {
   "cell_type": "markdown",
   "metadata": {
    "slideshow": {
     "slide_type": "subslide"
    }
   },
   "source": [
    "Imamo dve neničelni vrstici; Matrika `A` ima dva pivota in predstavlja dve linearno neodvisni enačbi. Rang matrike je 2."
   ]
  },
  {
   "cell_type": "code",
   "execution_count": 49,
   "metadata": {},
   "outputs": [
    {
     "data": {
      "text/plain": [
       "array([[ 1,  0, -1],\n",
       "       [ 0,  1,  2],\n",
       "       [ 0,  0,  0]])"
      ]
     },
     "execution_count": 49,
     "metadata": {},
     "output_type": "execute_result"
    }
   ],
   "source": [
    "A"
   ]
  },
  {
   "cell_type": "markdown",
   "metadata": {
    "slideshow": {
     "slide_type": "subslide"
    }
   },
   "source": [
    "Rang matrike pa lahko določimo tudi s pomočjo `numpy` funkcije `numpy.linalg.matrix_rank` ([dokumentacija](https://docs.scipy.org/doc/numpy/reference/generated/numpy.linalg.matrix_rank.html)):\n",
    "\n",
    "```python\n",
    "matrix_rank(M, tol=None)\n",
    "```\n",
    "\n",
    "kjer je `M` matrika, katere rang iščemo, `tol` opcijski parameter, ki določa mejo, pod katero se vrednosti v algoritmu smatrajo enake nič."
   ]
  },
  {
   "cell_type": "code",
   "execution_count": 50,
   "metadata": {},
   "outputs": [
    {
     "data": {
      "text/plain": [
       "2"
      ]
     },
     "execution_count": 50,
     "metadata": {},
     "output_type": "execute_result"
    }
   ],
   "source": [
    "np.linalg.matrix_rank(A)"
   ]
  },
  {
   "cell_type": "markdown",
   "metadata": {
    "slideshow": {
     "slide_type": "subslide"
    }
   },
   "source": [
    "Če velja $r=\\textbf{rang}(\\mathbf{A})=\\textbf{rang}([\\mathbf{A}|\\mathbf{b}])$, potem rešitev **obstaja** (rečemo tudi, da je sistem **konsistenten**).\n",
    "\n",
    "Konsistenten sistem ima:\n",
    "\n",
    "* natanko eno rešitev, ko je število neznank $n$ enako rangu $r$ in \n",
    "* neskončno mnogo rešitev, ko je rang $r$ manjši od števila neznank $n$ (rešitev je odvisna od $n-r$ parametrov)."
   ]
  },
  {
   "cell_type": "markdown",
   "metadata": {
    "slideshow": {
     "slide_type": "subslide"
    }
   },
   "source": [
    "Najprej se bomo omejili na sistem $m=n$ linearnih enačb z $n$ neznankami ter velja $n=r$:\n",
    "$$\\mathbf{A}\\,\\mathbf{x}=\\mathbf{b}.$$\n",
    "\n",
    "Pod zgornjimi pogoji je matrika koeficientov $\\mathbf{A}$ nesingularna ($|\\mathbf{A}|\\neq 0$) in sistem ima rešitev:\n",
    "$$\\mathbf{x}=\\mathbf{A^{-1}}\\,\\mathbf{b}.$$"
   ]
  },
  {
   "cell_type": "markdown",
   "metadata": {
    "slideshow": {
     "slide_type": "subslide"
    }
   },
   "source": [
    "Poglejmo si primer sistema, ko so **enačbe linearno odvisne** ($r<n$):"
   ]
  },
  {
   "cell_type": "code",
   "execution_count": 51,
   "metadata": {
    "scrolled": true
   },
   "outputs": [
    {
     "data": {
      "text/plain": [
       "array([[1, 2, 1],\n",
       "       [2, 4, 2]])"
      ]
     },
     "execution_count": 51,
     "metadata": {},
     "output_type": "execute_result"
    }
   ],
   "source": [
    "A = np.array([[1 , 2],\n",
    "              [2, 4]])\n",
    "b = np.array([1, 2])\n",
    "Ab = np.column_stack((A,b))\n",
    "Ab"
   ]
  },
  {
   "cell_type": "markdown",
   "metadata": {
    "slideshow": {
     "slide_type": "subslide"
    }
   },
   "source": [
    "S pomočjo `numpy` knjižnice poglejmo sedaj rang matrike koeficientov in razširjene matrike ter determinanto z uporabo `numpy.linalg.det` ([dokumentacija](https://docs.scipy.org/doc/numpy/reference/generated/numpy.linalg.det.html)):\n",
    "\n",
    "```python\n",
    "det(a)\n",
    "```\n",
    "\n",
    "kjer je `a` matrika (ali seznam matrik), katere determinanto iščemo; funkcija `det` vrne determinanto (ali seznam determinant)."
   ]
  },
  {
   "cell_type": "code",
   "execution_count": 52,
   "metadata": {},
   "outputs": [
    {
     "data": {
      "text/plain": [
       "'rang(A)=1, rang(Ab)=1, število neznank: 2, det(A)=0.0'"
      ]
     },
     "execution_count": 52,
     "metadata": {},
     "output_type": "execute_result"
    }
   ],
   "source": [
    "f'rang(A)={np.linalg.matrix_rank(A)}, rang(Ab)={np.linalg.matrix_rank(Ab)}, \\\n",
    "število neznank: {len(A[:,0])}, det(A)={np.linalg.det(A)}'"
   ]
  },
  {
   "cell_type": "markdown",
   "metadata": {
    "slideshow": {
     "slide_type": "subslide"
    }
   },
   "source": [
    "Poglejmo še primer, ko **rešitve sploh ni** (nekonsistenten sistem):"
   ]
  },
  {
   "cell_type": "code",
   "execution_count": 53,
   "metadata": {
    "scrolled": true
   },
   "outputs": [
    {
     "data": {
      "text/plain": [
       "array([[1, 2, 1],\n",
       "       [2, 4, 1]])"
      ]
     },
     "execution_count": 53,
     "metadata": {},
     "output_type": "execute_result"
    }
   ],
   "source": [
    "A = np.array([[1 , 2],\n",
    "              [2, 4]])\n",
    "b = np.array([1, 1])\n",
    "Ab = np.column_stack((A,b))\n",
    "Ab"
   ]
  },
  {
   "cell_type": "code",
   "execution_count": 54,
   "metadata": {},
   "outputs": [
    {
     "data": {
      "text/plain": [
       "'rang(A)=1, rang(Ab)=2, število neznank: 2, det(A)=0.0'"
      ]
     },
     "execution_count": 54,
     "metadata": {},
     "output_type": "execute_result"
    }
   ],
   "source": [
    "f'rang(A)={np.linalg.matrix_rank(A)}, rang(Ab)={np.linalg.matrix_rank(Ab)}, \\\n",
    "število neznank: {len(A[:,0])}, det(A)={np.linalg.det(A)}'"
   ]
  },
  {
   "cell_type": "markdown",
   "metadata": {
    "slideshow": {
     "slide_type": "subslide"
    }
   },
   "source": [
    "## Norma in pogojenost sistemov enačb"
   ]
  },
  {
   "cell_type": "markdown",
   "metadata": {},
   "source": [
    "Numerična naloga je slabo pogojena, če majhna sprememba podatkov povzroči veliko spremembo rezultata. V primeru *majhne spremembe podatkov*, ki povzročijo *majhno spremembo rezultatov*, pa je naloga **dobro pogojena**. \n",
    "\n",
    "Sistem enačb je ponavadi dobro pogojen, če so absolutne vrednosti diagonalnih elementov matrike koeficientov velike v primerjavi z absolutnimi vrednostmi izven diagonalnih elementov."
   ]
  },
  {
   "cell_type": "markdown",
   "metadata": {
    "slideshow": {
     "slide_type": "subslide"
    }
   },
   "source": [
    "Za sistem linearnih enačb $\\mathbf{A}\\,\\mathbf{x}=\\mathbf{b}$ lahko računamo **število pogojenosti** (*angl.* condition number):\n",
    "\n",
    "$$\\textrm{cond}(\\textbf{A})=||\\textbf{A}||\\,||\\textbf{A}^{-1}||.$$\n",
    "\n",
    "Z $||\\textbf{A}||$ je označena **norma** matrike."
   ]
  },
  {
   "cell_type": "markdown",
   "metadata": {
    "slideshow": {
     "slide_type": "subslide"
    }
   },
   "source": [
    "Obstaja več načinov računanja norme; navedimo dve:\n",
    "\n",
    "* Evklidska norma (tudi Frobeniusova):\n",
    "$$||\\textbf{A}||_e=\\sqrt{\\sum_{i=1}^n\\sum_{j=1}^nA_{ij}^2}$$\n",
    "* Norma vsote vrstic ali tudi neskončna norma:\n",
    "$$||\\textbf{A}||_{\\infty}=\\max_{1\\le i\\le n}\\sum_{j=1}^n |A_{ij}|$$"
   ]
  },
  {
   "cell_type": "markdown",
   "metadata": {
    "slideshow": {
     "slide_type": "subslide"
    }
   },
   "source": [
    "Pogojenost računamo z vgrajeno funkcijo `numpy.linalg.cond` ([dokumentacija](https://docs.scipy.org/doc/numpy/reference/generated/numpy.linalg.cond.html)):\n",
    "\n",
    "```python\n",
    "cond(x, p=None)\n",
    "```\n",
    "\n",
    "ki sprejme dva parametra: matriko `x` in opcijski tip norme `p` (privzeti tip je `None`; v tem primeru se uporabi Evklidska/Frobeniusova norma)."
   ]
  },
  {
   "cell_type": "markdown",
   "metadata": {
    "slideshow": {
     "slide_type": "-"
    }
   },
   "source": [
    "Če je število pogojenosti majhno, potem je matrika dobro pogojena in obratno - pri slabi pogojenosti se število pogojenosti zelo poveča.\n",
    "\n",
    "Žal je izračun pogojenosti matrike numerično relativno zahteven."
   ]
  },
  {
   "cell_type": "markdown",
   "metadata": {
    "slideshow": {
     "slide_type": "subslide"
    }
   },
   "source": [
    "### Primer slabo pogojene matrike"
   ]
  },
  {
   "cell_type": "markdown",
   "metadata": {},
   "source": [
    "Pogledali si bomo slabo pogojen sistem, kjer bomo z malenkostno spremembo na matriki koeficientov povzročili veliko spremembo rešitve."
   ]
  },
  {
   "cell_type": "markdown",
   "metadata": {
    "slideshow": {
     "slide_type": "subslide"
    }
   },
   "source": [
    "Matrika koeficientov:"
   ]
  },
  {
   "cell_type": "code",
   "execution_count": 55,
   "metadata": {},
   "outputs": [
    {
     "data": {
      "text/plain": [
       "400002.0000028382"
      ]
     },
     "execution_count": 55,
     "metadata": {},
     "output_type": "execute_result"
    }
   ],
   "source": [
    "A = np.array([[1 , 1],\n",
    "              [1, 1.00001]])\n",
    "np.linalg.cond(A)"
   ]
  },
  {
   "cell_type": "markdown",
   "metadata": {
    "slideshow": {
     "slide_type": "subslide"
    }
   },
   "source": [
    "Vektor konstant:"
   ]
  },
  {
   "cell_type": "code",
   "execution_count": 56,
   "metadata": {
    "scrolled": true
   },
   "outputs": [
    {
     "data": {
      "text/plain": [
       "array([[ 1.     ,  1.     ,  3.     ],\n",
       "       [ 1.     ,  1.00001, -3.     ]])"
      ]
     },
     "execution_count": 56,
     "metadata": {},
     "output_type": "execute_result"
    }
   ],
   "source": [
    "b = np.array([3, -3])\n",
    "Ab = np.column_stack((A,b))\n",
    "Ab"
   ]
  },
  {
   "cell_type": "markdown",
   "metadata": {
    "slideshow": {
     "slide_type": "subslide"
    }
   },
   "source": [
    "Preverimo rang in determinanto:"
   ]
  },
  {
   "cell_type": "code",
   "execution_count": 57,
   "metadata": {},
   "outputs": [
    {
     "data": {
      "text/plain": [
       "'rang(A)=2, rang(Ab)=2, število neznank: 2, det(A)=1.000000000006551e-05'"
      ]
     },
     "execution_count": 57,
     "metadata": {},
     "output_type": "execute_result"
    }
   ],
   "source": [
    "f'rang(A)={np.linalg.matrix_rank(A)}, rang(Ab)={np.linalg.matrix_rank(Ab)}, \\\n",
    "število neznank: {len(A[:,0])}, det(A)={np.linalg.det(A)}'"
   ]
  },
  {
   "cell_type": "markdown",
   "metadata": {
    "slideshow": {
     "slide_type": "subslide"
    }
   },
   "source": [
    "Od druge enačbe odštejemo prvo:"
   ]
  },
  {
   "cell_type": "code",
   "execution_count": 58,
   "metadata": {},
   "outputs": [
    {
     "data": {
      "text/plain": [
       "array([[ 1.e+00,  1.e+00,  3.e+00],\n",
       "       [ 0.e+00,  1.e-05, -6.e+00]])"
      ]
     },
     "execution_count": 58,
     "metadata": {},
     "output_type": "execute_result"
    }
   ],
   "source": [
    "Ab[1,:] -= Ab[0,:]\n",
    "Ab"
   ]
  },
  {
   "cell_type": "markdown",
   "metadata": {
    "slideshow": {
     "slide_type": "subslide"
    }
   },
   "source": [
    "Določimo `x1`:"
   ]
  },
  {
   "cell_type": "code",
   "execution_count": 59,
   "metadata": {},
   "outputs": [
    {
     "data": {
      "text/plain": [
       "-599999.9999960692"
      ]
     },
     "execution_count": 59,
     "metadata": {},
     "output_type": "execute_result"
    }
   ],
   "source": [
    "x1 = Ab[1,2]/Ab[1,1]\n",
    "x1"
   ]
  },
  {
   "cell_type": "markdown",
   "metadata": {},
   "source": [
    "Preostane še določitev `x0`:"
   ]
  },
  {
   "cell_type": "code",
   "execution_count": 60,
   "metadata": {
    "slideshow": {
     "slide_type": "subslide"
    }
   },
   "outputs": [
    {
     "data": {
      "text/plain": [
       "600002.9999960692"
      ]
     },
     "execution_count": 60,
     "metadata": {},
     "output_type": "execute_result"
    }
   ],
   "source": [
    "x0 = (Ab[0,2] - Ab[0,1]*x1)/Ab[0,0]\n",
    "x0"
   ]
  },
  {
   "cell_type": "markdown",
   "metadata": {
    "slideshow": {
     "slide_type": "subslide"
    }
   },
   "source": [
    "Malenkostno spremenimo matriko koeficientov in ponovimo reševanje:"
   ]
  },
  {
   "cell_type": "code",
   "execution_count": 61,
   "metadata": {},
   "outputs": [
    {
     "data": {
      "text/plain": [
       "40002.00007491187"
      ]
     },
     "execution_count": 61,
     "metadata": {},
     "output_type": "execute_result"
    }
   ],
   "source": [
    "A = np.array([[1 , 1],\n",
    "              [1, 1.0001]]) # <= tukaj smo spremenili 1.00001 na 1.0001\n",
    "np.linalg.cond(A)"
   ]
  },
  {
   "cell_type": "markdown",
   "metadata": {
    "slideshow": {
     "slide_type": "subslide"
    }
   },
   "source": [
    "Ponovimo izračun:"
   ]
  },
  {
   "cell_type": "code",
   "execution_count": 62,
   "metadata": {
    "scrolled": true
   },
   "outputs": [],
   "source": [
    "Ab = np.column_stack((A,b))\n",
    "f'rang(A)={np.linalg.matrix_rank(A)}, rang(Ab)={np.linalg.matrix_rank(Ab)}, \\\n",
    "število neznank: {len(A[:,0])}, det(A)={np.linalg.det(A)}'\n",
    "Ab[1,:] -= Ab[0,:]\n",
    "x1_ = Ab[1,2]/Ab[1,1]\n",
    "x0_ = (Ab[0,2] - Ab[0,1]*x1)/Ab[0,0]"
   ]
  },
  {
   "cell_type": "markdown",
   "metadata": {
    "slideshow": {
     "slide_type": "subslide"
    }
   },
   "source": [
    "Primerjamo obe rešitvi:"
   ]
  },
  {
   "cell_type": "code",
   "execution_count": 63,
   "metadata": {},
   "outputs": [
    {
     "data": {
      "text/plain": [
       "[600002.9999960692, -599999.9999960692]"
      ]
     },
     "execution_count": 63,
     "metadata": {},
     "output_type": "execute_result"
    }
   ],
   "source": [
    "[x0, x1] # prva rešitev"
   ]
  },
  {
   "cell_type": "code",
   "execution_count": 64,
   "metadata": {},
   "outputs": [
    {
     "data": {
      "text/plain": [
       "[600002.9999960692, -60000.00000000661]"
      ]
     },
     "execution_count": 64,
     "metadata": {},
     "output_type": "execute_result"
    }
   ],
   "source": [
    "[x0_, x1_] # druga rešitev"
   ]
  },
  {
   "cell_type": "markdown",
   "metadata": {},
   "source": [
    "Ugotovimo, da je malenkostna sprememba enega koeficienta v matriki koeficientov povzročila veliko spremembo v rezultatu. Majhni spremembi podatkov se ne moremo izogniti, zaradi zapisa podatkov v računalniku."
   ]
  },
  {
   "cell_type": "markdown",
   "metadata": {
    "slideshow": {
     "slide_type": "subslide"
    }
   },
   "source": [
    "## Numerično reševanje sistemov linearnih enačb"
   ]
  },
  {
   "cell_type": "markdown",
   "metadata": {},
   "source": [
    "\n",
    "Pogledali si bomo dva, v principu različna pristopa k reševanju sistemov linearnih enačb:\n",
    "\n",
    "A) **Direktni pristop**: nad sistemom enačb izvajamo elementarne operacije, s katerimi predelamo sistem enačb v lažje rešljivega,\n",
    "\n",
    "B) **Iterativni pristop**: izberemo začetni približek, nato pa približek iterativno izboljšujemo."
   ]
  },
  {
   "cell_type": "markdown",
   "metadata": {
    "slideshow": {
     "slide_type": "slide"
    }
   },
   "source": [
    "# Gaussova eliminacija\n",
    "\n",
    "Predpostavimo, da rešujemo sistem $n$ enačb za $n$ neznank, ki ima rang $n$. Tak sistem je enolično rešljiv. \n",
    "\n",
    "Gaussova eliminacija spada med direktne metode, saj s pomočjo elementarnih vrstičnih operacij sistem enačb prevedemo v zgornje poravnani trikotni sistem (pod glavno diagonalo v razširjeni matriki so vrednosti nič)."
   ]
  },
  {
   "cell_type": "markdown",
   "metadata": {
    "slideshow": {
     "slide_type": "subslide"
    }
   },
   "source": [
    "Najprej pripravimo razširjeno matriko koeficientov:\n",
    "$$\\begin{bmatrix}\n",
    "\\mathbf{A}|\\mathbf{b}\n",
    "\\end{bmatrix}=\n",
    "\\left[\\begin{array}{cccc|c}\n",
    "A_{0,0}&A_{0,1}&\\cdots & A_{0,n-1} & b_0\\\\\n",
    "A_{1,0}&A_{1,1}&\\cdots & A_{1,n-1} & b_1\\\\\n",
    "\\vdots&\\vdots&\\ddots & \\vdots & \\vdots\\\\\n",
    "A_{n-1,0}&A_{n-1,1}&\\cdots & A_{n-1,n-1} & b_{n-1}\\\\\n",
    "\\end{array}\\right]\n",
    "$$"
   ]
  },
  {
   "cell_type": "markdown",
   "metadata": {
    "slideshow": {
     "slide_type": "subslide"
    }
   },
   "source": [
    "Gaussovo eliminacijo si bomo pogledali na zgledu:"
   ]
  },
  {
   "cell_type": "code",
   "execution_count": 65,
   "metadata": {},
   "outputs": [],
   "source": [
    "A = np.array([[ 8., -6, 3],\n",
    "              [-6, 6,-6],\n",
    "              [ 3, -6, 6]])\n",
    "b = np.array([-14, 36, 6])\n",
    "Ab = np.column_stack((A,b))"
   ]
  },
  {
   "cell_type": "code",
   "execution_count": 66,
   "metadata": {
    "slideshow": {
     "slide_type": "subslide"
    }
   },
   "outputs": [
    {
     "data": {
      "text/plain": [
       "array([[  8.,  -6.,   3., -14.],\n",
       "       [ -6.,   6.,  -6.,  36.],\n",
       "       [  3.,  -6.,   6.,   6.]])"
      ]
     },
     "execution_count": 66,
     "metadata": {},
     "output_type": "execute_result"
    }
   ],
   "source": [
    "Ab"
   ]
  },
  {
   "cell_type": "markdown",
   "metadata": {
    "slideshow": {
     "slide_type": "subslide"
    }
   },
   "source": [
    "Korak 0: prvo vrstico pomnožimo z `Ab[1,0]/Ab[0,0]=-6/8` in odštejemo od druge:"
   ]
  },
  {
   "cell_type": "code",
   "execution_count": 67,
   "metadata": {},
   "outputs": [
    {
     "data": {
      "text/plain": [
       "array([[  8.  ,  -6.  ,   3.  , -14.  ],\n",
       "       [  0.  ,   1.5 ,  -3.75,  25.5 ],\n",
       "       [  3.  ,  -6.  ,   6.  ,   6.  ]])"
      ]
     },
     "execution_count": 67,
     "metadata": {},
     "output_type": "execute_result"
    }
   ],
   "source": [
    "Ab[1,:] -= Ab[1,0]/Ab[0,0] * Ab[0,:]\n",
    "Ab"
   ]
  },
  {
   "cell_type": "markdown",
   "metadata": {
    "slideshow": {
     "slide_type": "subslide"
    }
   },
   "source": [
    "Nato prvo vrstico pomnožimo z `Ab[2,0]/Ab[0,0]=3/8` in odštejemo od tretje:"
   ]
  },
  {
   "cell_type": "code",
   "execution_count": 68,
   "metadata": {},
   "outputs": [
    {
     "data": {
      "text/plain": [
       "array([[  8.   ,  -6.   ,   3.   , -14.   ],\n",
       "       [  0.   ,   1.5  ,  -3.75 ,  25.5  ],\n",
       "       [  0.   ,  -3.75 ,   4.875,  11.25 ]])"
      ]
     },
     "execution_count": 68,
     "metadata": {},
     "output_type": "execute_result"
    }
   ],
   "source": [
    "Ab[2,:] -= Ab[2,0]/Ab[0,0] * Ab[0,:]\n",
    "Ab"
   ]
  },
  {
   "cell_type": "markdown",
   "metadata": {
    "slideshow": {
     "slide_type": "subslide"
    }
   },
   "source": [
    "Korak 1: drugo vrstico pomnožimo z `Ab[2,1]/Ab[1,1]=-3.75/1.5` in odštejemo od tretje:"
   ]
  },
  {
   "cell_type": "code",
   "execution_count": 69,
   "metadata": {
    "slideshow": {
     "slide_type": "subslide"
    }
   },
   "outputs": [
    {
     "data": {
      "text/plain": [
       "array([[  8.  ,  -6.  ,   3.  , -14.  ],\n",
       "       [  0.  ,   1.5 ,  -3.75,  25.5 ],\n",
       "       [  0.  ,   0.  ,  -4.5 ,  75.  ]])"
      ]
     },
     "execution_count": 69,
     "metadata": {},
     "output_type": "execute_result"
    }
   ],
   "source": [
    "Ab[2,:] -= Ab[2,1]/Ab[1,1] * Ab[1,:]\n",
    "Ab"
   ]
  },
  {
   "cell_type": "markdown",
   "metadata": {
    "slideshow": {
     "slide_type": "subslide"
    }
   },
   "source": [
    "S pomočjo pripravljenega modula `moduli/gauss_prikaz.py` lahko postopek tudi animiramo:\n",
    "<img src=\"./fig/gauss_eliminacija.gif\" width=350>"
   ]
  },
  {
   "cell_type": "markdown",
   "metadata": {
    "slideshow": {
     "slide_type": "subslide"
    }
   },
   "source": [
    "Dobili smo zgornje trikotno matriko in Gaussova eliminacija je končana. Lahko izračunamo rešitev, torej določimo vektor neznank $x$ z **obratnim vstavljanjem**. \n",
    "\n",
    "Iz zadnje vrstice zgornje trikotne matrike izračunamo $x_2$:"
   ]
  },
  {
   "cell_type": "code",
   "execution_count": 70,
   "metadata": {
    "slideshow": {
     "slide_type": "subslide"
    }
   },
   "outputs": [
    {
     "data": {
      "text/plain": [
       "array([[  8.  ,  -6.  ,   3.  , -14.  ],\n",
       "       [  0.  ,   1.5 ,  -3.75,  25.5 ],\n",
       "       [  0.  ,   0.  ,  -4.5 ,  75.  ]])"
      ]
     },
     "execution_count": 70,
     "metadata": {},
     "output_type": "execute_result"
    }
   ],
   "source": [
    "Ab"
   ]
  },
  {
   "cell_type": "code",
   "execution_count": 71,
   "metadata": {
    "slideshow": {
     "slide_type": "-"
    }
   },
   "outputs": [
    {
     "data": {
      "text/plain": [
       "array([  0.        ,   0.        , -16.66666667])"
      ]
     },
     "execution_count": 71,
     "metadata": {},
     "output_type": "execute_result"
    }
   ],
   "source": [
    "x = np.zeros(3) #pripravimo prazen seznam\n",
    "x[2] = Ab[2,-1]/Ab[2,2]\n",
    "x"
   ]
  },
  {
   "cell_type": "markdown",
   "metadata": {},
   "source": [
    "S pomočjo predzadnje vrstice izračunamo $x_1$:"
   ]
  },
  {
   "cell_type": "code",
   "execution_count": 72,
   "metadata": {
    "slideshow": {
     "slide_type": "subslide"
    }
   },
   "outputs": [
    {
     "data": {
      "text/plain": [
       "array([[  8.  ,  -6.  ,   3.  , -14.  ],\n",
       "       [  0.  ,   1.5 ,  -3.75,  25.5 ],\n",
       "       [  0.  ,   0.  ,  -4.5 ,  75.  ]])"
      ]
     },
     "execution_count": 72,
     "metadata": {},
     "output_type": "execute_result"
    }
   ],
   "source": [
    "Ab"
   ]
  },
  {
   "cell_type": "code",
   "execution_count": 73,
   "metadata": {},
   "outputs": [
    {
     "data": {
      "text/plain": [
       "array([  0.        , -24.66666667, -16.66666667])"
      ]
     },
     "execution_count": 73,
     "metadata": {},
     "output_type": "execute_result"
    }
   ],
   "source": [
    "x[1] = (Ab[1,-1] - Ab[1,2]*x[2]) / Ab[1,1]\n",
    "x"
   ]
  },
  {
   "cell_type": "markdown",
   "metadata": {},
   "source": [
    "S pomočjo prve vrstice nato izračunamo $x_0$:"
   ]
  },
  {
   "cell_type": "code",
   "execution_count": 74,
   "metadata": {
    "slideshow": {
     "slide_type": "subslide"
    }
   },
   "outputs": [
    {
     "data": {
      "text/plain": [
       "array([[  8.  ,  -6.  ,   3.  , -14.  ],\n",
       "       [  0.  ,   1.5 ,  -3.75,  25.5 ],\n",
       "       [  0.  ,   0.  ,  -4.5 ,  75.  ]])"
      ]
     },
     "execution_count": 74,
     "metadata": {},
     "output_type": "execute_result"
    }
   ],
   "source": [
    "Ab"
   ]
  },
  {
   "cell_type": "code",
   "execution_count": 75,
   "metadata": {},
   "outputs": [
    {
     "data": {
      "text/plain": [
       "array([-14.        , -24.66666667, -16.66666667])"
      ]
     },
     "execution_count": 75,
     "metadata": {},
     "output_type": "execute_result"
    }
   ],
   "source": [
    "x[0] = (Ab[0,3] - Ab[0,1:3]@x[1:]) / Ab[0,0]\n",
    "x"
   ]
  },
  {
   "cell_type": "markdown",
   "metadata": {
    "slideshow": {
     "slide_type": "subslide"
    }
   },
   "source": [
    "Preverimo rešitev:"
   ]
  },
  {
   "cell_type": "code",
   "execution_count": 76,
   "metadata": {},
   "outputs": [
    {
     "data": {
      "text/plain": [
       "array([0.00000000e+00, 0.00000000e+00, 1.42108547e-14])"
      ]
     },
     "execution_count": 76,
     "metadata": {},
     "output_type": "execute_result"
    }
   ],
   "source": [
    "A @ x - b"
   ]
  },
  {
   "cell_type": "markdown",
   "metadata": {
    "slideshow": {
     "slide_type": "subslide"
    }
   },
   "source": [
    "### Povzetek Gaussove eliminacije"
   ]
  },
  {
   "cell_type": "markdown",
   "metadata": {},
   "source": [
    "V modul ``orodja.py`` shranimo funkciji:"
   ]
  },
  {
   "cell_type": "code",
   "execution_count": 77,
   "metadata": {},
   "outputs": [],
   "source": [
    "def gaussova_eliminacija(A, b, prikazi_korake = False):\n",
    "    Ab = np.column_stack((A, b))\n",
    "    for p, pivot_vrsta in enumerate(Ab[:-1]):\n",
    "        for vrsta in Ab[p+1:]:\n",
    "            if pivot_vrsta[p]:\n",
    "                vrsta[p:] -= pivot_vrsta[p:]*vrsta[p]/pivot_vrsta[p]\n",
    "            else:\n",
    "                raise Exception('Deljenje z 0.')\n",
    "        if prikazi_korake:\n",
    "            print('Korak: {:g}'.format(p))\n",
    "            print(Ab)\n",
    "    return Ab\n",
    "\n",
    "def gaussova_el_resitev(Ub):\n",
    "    v = len(Ub)\n",
    "    x = np.zeros(v)\n",
    "    for p, pivot_vrsta in enumerate(Ub[::-1]):\n",
    "        x[v-p-1] = (pivot_vrsta[-1] - pivot_vrsta[v-p:-1] @ x[v-p:] ) / (pivot_vrsta[v-p-1])\n",
    "    return x"
   ]
  },
  {
   "cell_type": "markdown",
   "metadata": {
    "slideshow": {
     "slide_type": "subslide"
    }
   },
   "source": [
    "Algoritem, s katerim iz zgornje trikotnega sistema enačb $\\mathbf{U}\\,\\mathbf{x}=\\mathbf{b}$ izračunamo rešitev, imenujemo **obratno vstavljanje** (angl. *back substitution*); $\\mathbf{U}$ je zgornje trikotna matrika.\n",
    "\n",
    "V kolikor bi reševali sistem $\\mathbf{L}\\,\\mathbf{x}=\\mathbf{b}$ in je $\\mathbf{L}$ spodnje trikotna matrika, bi to metodo imenovali **direktno vstavljanje** (angl. *forward substitution*)."
   ]
  },
  {
   "cell_type": "code",
   "execution_count": 78,
   "metadata": {
    "slideshow": {
     "slide_type": "subslide"
    }
   },
   "outputs": [
    {
     "data": {
      "text/plain": [
       "array([[  8.  ,  -6.  ,   3.  , -14.  ],\n",
       "       [  0.  ,   1.5 ,  -3.75,  25.5 ],\n",
       "       [  0.  ,   0.  ,  -4.5 ,  75.  ]])"
      ]
     },
     "execution_count": 78,
     "metadata": {},
     "output_type": "execute_result"
    }
   ],
   "source": [
    "Ub = gaussova_eliminacija(A, b, prikazi_korake=False)\n",
    "Ub"
   ]
  },
  {
   "cell_type": "code",
   "execution_count": 79,
   "metadata": {},
   "outputs": [
    {
     "data": {
      "text/plain": [
       "array([-14.        , -24.66666667, -16.66666667])"
      ]
     },
     "execution_count": 79,
     "metadata": {},
     "output_type": "execute_result"
    }
   ],
   "source": [
    "gaussova_el_resitev(Ub)"
   ]
  },
  {
   "cell_type": "markdown",
   "metadata": {
    "slideshow": {
     "slide_type": "subslide"
    }
   },
   "source": [
    "## Numerična zahtevnost"
   ]
  },
  {
   "cell_type": "markdown",
   "metadata": {},
   "source": [
    "Numerično zahtevnost ocenjujemo po številu matematičnih operacij, ki so potrebne za izračun. \n",
    "Za rešitev $n$ linearnih enačb tako z Gaussovo eliminacijo potrebujemo približno $n^3/3$ matematičnih operacij. Za določitev neznank $\\mathbf{x}$ potrebujemo še dodatnih približno $n^2$ operacij.\n",
    "\n",
    "Pri Gaussovi eliminaciji smo eliminacijo izvedli samo za člene pod diagonalo; če bi z eliminacijo nadaljevali in jo izvedli tudi za člene nad diagonalo, bi izvedli t. i. *Gauss-Jordanovo* eliminacijo, za katero pa potrebujemo dodatnih približno $n^3/3$ operacij* (kar se šteje kot glavna slabost te metode).\n",
    "\n",
    "\\* Nekaj komentarjev na temo števila numeričnih operacij najdete tukaj: [pinm.ladisk.si](http://pinm.ladisk.si/303/kako-dolo%C4%8Damo-numeri%C4%8Dno-zahtevnost-algoritmov)."
   ]
  },
  {
   "cell_type": "markdown",
   "metadata": {
    "slideshow": {
     "slide_type": "subslide"
    }
   },
   "source": [
    "## Uporaba knjižnjice `numpy`"
   ]
  },
  {
   "cell_type": "markdown",
   "metadata": {},
   "source": [
    "Reševanje sistema linearnih enačb z `numpy.linalg.solve` ([dokumentacija](https://docs.scipy.org/doc/numpy/reference/generated/numpy.linalg.solve.html)):\n",
    "\n",
    "```python\n",
    "solve(a, b)\n",
    "```\n",
    "\n",
    "kjer je `a` matrika koeficientov (ali seznam matrik) in je `b` vektor konstant (ali seznam vektorjev). Funkcija vrne vektor (ali seznam vektorjev) rešitev."
   ]
  },
  {
   "cell_type": "code",
   "execution_count": 80,
   "metadata": {
    "slideshow": {
     "slide_type": "subslide"
    }
   },
   "outputs": [
    {
     "data": {
      "text/plain": [
       "array([-14.        , -24.66666667, -16.66666667])"
      ]
     },
     "execution_count": 80,
     "metadata": {},
     "output_type": "execute_result"
    }
   ],
   "source": [
    "np.linalg.solve(A, b)"
   ]
  },
  {
   "cell_type": "markdown",
   "metadata": {
    "slideshow": {
     "slide_type": "slide"
    }
   },
   "source": [
    "# Nekaj vprašanj za razmislek!"
   ]
  },
  {
   "cell_type": "markdown",
   "metadata": {},
   "source": [
    "1. Za sistem enačb: \n",
    "    $$\n",
    "    \\mathbf{A}=\n",
    "    \\begin{bmatrix}\n",
    "    1 & -4 & 1\\\\\n",
    "    1 & 6 & -1\\\\\n",
    "    2 & -1 & 2\n",
    "    \\end{bmatrix}\n",
    "    \\qquad\n",
    "    \\mathbf{b}=\n",
    "    \\begin{bmatrix}\n",
    "    7\\\\\n",
    "    13\\\\\n",
    "    5\n",
    "    \\end{bmatrix}\n",
    "    $$\n",
    "\n",
    "    najdite rešitev s pomočjo ``np.linalg.solve()``.\n",
    "\n",
    "* Za zgoraj definirano matriko $\\mathbf{A}$ določite Evklidsko normo (lastni program).\n",
    "* Za zgoraj definirano matriko $\\mathbf{A}$ določite neskončno normo (lastni program).\n",
    "* Za zgoraj definirano matriko $\\mathbf{A}$ določite pogojenost (``numpy`` funkcija).\n",
    "* Definirajte funkcijo ``gauss_elim``, ki za poljubno matriko $\\mathbf{A}$ in vektor $\\mathbf{b}$ izvede Gaussovo eliminacijo (posebej za matriko in posebej za vektor tako, da ne sestavite razširjene matrike $[\\mathbf{A}|\\mathbf{b}]$).\n",
    "* Definirajte funkcijo ``gauss_elim_x``, ki za razultat funkcije ``gauss_elim`` najde ustrezne vrednosti vektorja $\\textbf{x}$.\n",
    "* Zgornji funkciji dopolnite s štetjem matematičnih operacij.\n",
    "* Na sliki je prikazan sistem mas:\n",
    "\n",
    "    <img width=600 src=\"./fig/mase_na_klancu.png\">\n",
    "    \n",
    "    Predpostavite, da se sistem zaradi teže giblje po klancu navzdol z neznanim pospeškom $a$ in da so vrvi napete z neznanimi silami $F_i$. Znane veličine so (sami jih določite): posamično telo ima maso $m_i$, koeficient trenja s podlago $\\mu_i=1$, $g=9,81$m/s$^2$, $\\varphi=55^{\\circ}$.\n",
    "    Določite sistem enačb v primeru dveh teles. Določite matriko koeficientov $\\mathbf{A}$ in vektorja $\\mathbf{b}$ ter $\\mathbf{x}$.\n",
    "* Za zgoraj definiran sistem mas predpostavite, da je mas 4 (ali več) ter določite matriko koeficientov $\\mathbf{A}$, in vektorja $\\mathbf{x}$ ter $\\mathbf{b}$. Rešite sistem s pomočjo Gaussove elimnacije/LU razcepa ali ``np.linalg.solve``. Preverite pogojenost!\n",
    "* V sistemu mas dobimo fizikalno nekonsistentno rešitev, če imamo v kateri od vrvi tlačno silo (vrv ne prenese tlačne sile). Preverite, ali je to v vašem primeru res. Ustrezno spremenite koeficient(e) trenja, da se bo to zgodilo."
   ]
  },
  {
   "cell_type": "markdown",
   "metadata": {
    "slideshow": {
     "slide_type": "subslide"
    }
   },
   "source": [
    "# Dodatno"
   ]
  },
  {
   "cell_type": "markdown",
   "metadata": {},
   "source": [
    "Poglejte si strani:\n",
    "* [micropython.org](http://www.micropython.org)\n",
    "* [kivy.org](http://www.kivy.org)\n",
    "* [openmodal.com](http://www.openmodal.com)"
   ]
  },
  {
   "cell_type": "markdown",
   "metadata": {
    "slideshow": {
     "slide_type": "subslide"
    }
   },
   "source": [
    "## Primer simbolnega reševanja sistema linearnih enačb v okviru `sympy`"
   ]
  },
  {
   "cell_type": "code",
   "execution_count": 84,
   "metadata": {},
   "outputs": [],
   "source": [
    "import sympy as sym\n",
    "sym.init_printing()"
   ]
  },
  {
   "cell_type": "code",
   "execution_count": 85,
   "metadata": {
    "slideshow": {
     "slide_type": "-"
    }
   },
   "outputs": [],
   "source": [
    "A11, A12, A21, A22 = sym.symbols('A11, A12, A21, A22')\n",
    "x1, x2 = sym.symbols('x1, x2')\n",
    "b1, b2 = sym.symbols('b1, b2')\n",
    "A = sym.Matrix([[A11, A12],\n",
    "                [A21, A22]])\n",
    "x = sym.Matrix([[x1],\n",
    "                [x2]])\n",
    "b = sym.Matrix([[b1],\n",
    "                [b2]])"
   ]
  },
  {
   "cell_type": "code",
   "execution_count": 86,
   "metadata": {
    "slideshow": {
     "slide_type": "subslide"
    }
   },
   "outputs": [
    {
     "data": {
      "image/png": "[encoded data removed]",
      "text/latex": [
       "$\\displaystyle \\left[\\begin{matrix}A_{11} x_{1} + A_{12} x_{2}\\\\A_{21} x_{1} + A_{22} x_{2}\\end{matrix}\\right] = \\left[\\begin{matrix}b_{1}\\\\b_{2}\\end{matrix}\\right]$"
      ],
      "text/plain": [
       "⎡A₁₁⋅x₁ + A₁₂⋅x₂⎤   ⎡b₁⎤\n",
       "⎢               ⎥ = ⎢  ⎥\n",
       "⎣A₂₁⋅x₁ + A₂₂⋅x₂⎦   ⎣b₂⎦"
      ]
     },
     "execution_count": 86,
     "metadata": {},
     "output_type": "execute_result"
    }
   ],
   "source": [
    "eq = sym.Eq(A*x,b)\n",
    "eq"
   ]
  },
  {
   "cell_type": "code",
   "execution_count": 87,
   "metadata": {
    "slideshow": {
     "slide_type": "-"
    }
   },
   "outputs": [
    {
     "data": {
      "image/png": "[encoded data removed]",
      "text/latex": [
       "$\\displaystyle \\left\\{ x_{1} : \\frac{- A_{12} b_{2} + A_{22} b_{1}}{A_{11} A_{22} - A_{12} A_{21}}, \\  x_{2} : \\frac{A_{11} b_{2} - A_{21} b_{1}}{A_{11} A_{22} - A_{12} A_{21}}\\right\\}$"
      ],
      "text/plain": [
       "⎧     -A₁₂⋅b₂ + A₂₂⋅b₁       A₁₁⋅b₂ - A₂₁⋅b₁ ⎫\n",
       "⎨x₁: ─────────────────, x₂: ─────────────────⎬\n",
       "⎩    A₁₁⋅A₂₂ - A₁₂⋅A₂₁      A₁₁⋅A₂₂ - A₁₂⋅A₂₁⎭"
      ]
     },
     "execution_count": 87,
     "metadata": {},
     "output_type": "execute_result"
    }
   ],
   "source": [
    "#%%timeit\n",
    "resitev = sym.solve(eq,[x1, x2])\n",
    "resitev"
   ]
  },
  {
   "cell_type": "code",
   "execution_count": 88,
   "metadata": {},
   "outputs": [
    {
     "data": {
      "image/png": "[encoded data removed]",
      "text/latex": [
       "$\\displaystyle A_{11} A_{22} - A_{12} A_{21}$"
      ],
      "text/plain": [
       "A₁₁⋅A₂₂ - A₁₂⋅A₂₁"
      ]
     },
     "execution_count": 88,
     "metadata": {},
     "output_type": "execute_result"
    }
   ],
   "source": [
    "A.det()"
   ]
  }
 ],
 "metadata": {
  "anaconda-cloud": {},
  "celltoolbar": "Slideshow",
  "kernelspec": {
   "display_name": "Python 3",
   "language": "python",
   "name": "python3"
  },
  "language_info": {
   "codemirror_mode": {
    "name": "ipython",
    "version": 3
   },
   "file_extension": ".py",
   "mimetype": "text/x-python",
   "name": "python",
   "nbconvert_exporter": "python",
   "pygments_lexer": "ipython3",
   "version": "3.7.7"
  },
  "latex_envs": {
   "bibliofile": "biblio.bib",
   "cite_by": "apalike",
   "current_citInitial": 1,
   "eqLabelWithNumbers": true,
   "eqNumInitial": 0
  },
  "livereveal": {
   "theme": "sky",
   "transition": "default",
   "width": 1200
  },
  "nav_menu": {},
  "toc": {
   "base_numbering": 1,
   "nav_menu": {
    "height": "281px",
    "width": "252px"
   },
   "number_sections": true,
   "sideBar": true,
   "skip_h1_title": false,
   "title_cell": "Kazalo",
   "title_sidebar": "Kazalo",
   "toc_cell": true,
   "toc_position": {
    "height": "516px",
    "left": "0px",
    "right": "1006px",
    "top": "105.995px",
    "width": "176px"
   },
   "toc_section_display": "block",
   "toc_window_display": false
  }
 },
 "nbformat": 4,
 "nbformat_minor": 4
}
